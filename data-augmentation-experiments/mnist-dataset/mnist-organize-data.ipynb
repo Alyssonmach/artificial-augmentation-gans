{
 "cells": [
  {
   "attachments": {},
   "cell_type": "markdown",
   "metadata": {},
   "source": [
    "## Organizing the MNIST Image Set\n",
    "***"
   ]
  },
  {
   "attachments": {},
   "cell_type": "markdown",
   "metadata": {},
   "source": [
    "#### Importing Auxiliary Packages\n",
    "***"
   ]
  },
  {
   "cell_type": "code",
   "execution_count": 2,
   "metadata": {},
   "outputs": [],
   "source": [
    "from torchvision.datasets import MNIST\n",
    "from PIL import Image\n",
    "import idx2numpy\n",
    "import os"
   ]
  },
  {
   "attachments": {},
   "cell_type": "markdown",
   "metadata": {},
   "source": [
    "#### Downloading the Dataset\n",
    "***"
   ]
  },
  {
   "cell_type": "code",
   "execution_count": 3,
   "metadata": {},
   "outputs": [
    {
     "data": {
      "text/plain": [
       "Dataset MNIST\n",
       "    Number of datapoints: 60000\n",
       "    Root location: .\n",
       "    Split: Train"
      ]
     },
     "execution_count": 3,
     "metadata": {},
     "output_type": "execute_result"
    }
   ],
   "source": [
    "MNIST('.', download = True)"
   ]
  },
  {
   "attachments": {},
   "cell_type": "markdown",
   "metadata": {},
   "source": [
    "#### Organizing Images in Directories\n",
    "***"
   ]
  },
  {
   "cell_type": "code",
   "execution_count": 4,
   "metadata": {},
   "outputs": [
    {
     "name": "stdout",
     "output_type": "stream",
     "text": [
      "== Data Dimension ==\n",
      "\n",
      "Train Images Shape: (60000, 28, 28)\n",
      "Train Labels Shape: (60000,)\n",
      "Test Images Shape: (10000, 28, 28)\n",
      "Test Images Shape: (10000,)\n"
     ]
    }
   ],
   "source": [
    "train_images_files = 'MNIST/raw/train-images-idx3-ubyte'\n",
    "train_labels_files = 'MNIST/raw/train-labels-idx1-ubyte'\n",
    "test_images_files = 'MNIST/raw/t10k-images-idx3-ubyte'\n",
    "test_labels_files = 'MNIST/raw/t10k-labels-idx1-ubyte'\n",
    "\n",
    "train_images_array = idx2numpy.convert_from_file(train_images_files)\n",
    "train_labels_array = idx2numpy.convert_from_file(train_labels_files)\n",
    "test_images_array = idx2numpy.convert_from_file(test_images_files)\n",
    "test_labels_array = idx2numpy.convert_from_file(test_labels_files)\n",
    "\n",
    "print('== Data Dimension ==\\n')\n",
    "print(f'Train Images Shape: {train_images_array.shape}')\n",
    "print(f'Train Labels Shape: {train_labels_array.shape}')\n",
    "print(f'Test Images Shape: {test_images_array.shape}')\n",
    "print(f'Test Images Shape: {test_labels_array.shape}')"
   ]
  },
  {
   "cell_type": "code",
   "execution_count": 5,
   "metadata": {},
   "outputs": [],
   "source": [
    "def analyze_arrays(labels_array, extract):\n",
    "    '''\n",
    "    analyzes the amount of images contained in the array.\n",
    "\n",
    "    Input:\n",
    "        labels_array (array) --> array with all image labels.\n",
    "        extract (string) --> defines the analyzed image extract type label.\n",
    "    '''\n",
    "    \n",
    "    count, sum = 0, 0\n",
    "    for num in range(0, 10):\n",
    "        for label in labels_array:\n",
    "            if num == label: count += 1\n",
    "\n",
    "        print(f'{extract} images class {num}: {count} images')\n",
    "        sum += count\n",
    "        count = 0\n",
    "\n",
    "    print(f'\\n== {extract} total images: {sum} images ==')"
   ]
  },
  {
   "cell_type": "code",
   "execution_count": 6,
   "metadata": {},
   "outputs": [
    {
     "name": "stdout",
     "output_type": "stream",
     "text": [
      "Train images class 0: 5923 images\n",
      "Train images class 1: 6742 images\n",
      "Train images class 2: 5958 images\n",
      "Train images class 3: 6131 images\n",
      "Train images class 4: 5842 images\n",
      "Train images class 5: 5421 images\n",
      "Train images class 6: 5918 images\n",
      "Train images class 7: 6265 images\n",
      "Train images class 8: 5851 images\n",
      "Train images class 9: 5949 images\n",
      "\n",
      "== Train total images: 60000 images ==\n"
     ]
    }
   ],
   "source": [
    "analyze_arrays(train_labels_array, 'Train')"
   ]
  },
  {
   "cell_type": "code",
   "execution_count": 7,
   "metadata": {},
   "outputs": [
    {
     "name": "stdout",
     "output_type": "stream",
     "text": [
      "Test images class 0: 980 images\n"
     ]
    },
    {
     "name": "stdout",
     "output_type": "stream",
     "text": [
      "Test images class 1: 1135 images\n",
      "Test images class 2: 1032 images\n",
      "Test images class 3: 1010 images\n",
      "Test images class 4: 982 images\n",
      "Test images class 5: 892 images\n",
      "Test images class 6: 958 images\n",
      "Test images class 7: 1028 images\n",
      "Test images class 8: 974 images\n",
      "Test images class 9: 1009 images\n",
      "\n",
      "== Test total images: 10000 images ==\n"
     ]
    }
   ],
   "source": [
    "analyze_arrays(test_labels_array, 'Test')"
   ]
  },
  {
   "cell_type": "code",
   "execution_count": 8,
   "metadata": {},
   "outputs": [],
   "source": [
    "def array_to_png(image_array, image_dir):\n",
    "    '''\n",
    "    saves an image array in png format.\n",
    "\n",
    "    Input:\n",
    "        image_array (array) --> image array\n",
    "        image_dir (str) --> string with directory and image name.png\n",
    "    Returns:\n",
    "    '''\n",
    "    \n",
    "    image = Image.fromarray(image_array)\n",
    "    image.save(image_dir)"
   ]
  },
  {
   "cell_type": "code",
   "execution_count": 9,
   "metadata": {},
   "outputs": [],
   "source": [
    "def make_directories(main_directory, sub_directories):\n",
    "    '''\n",
    "    creates directories to store the dataset images.\n",
    "\n",
    "    Input:\n",
    "        main_directory (string) --> main folder name.\n",
    "        sub_directories (string) --> name of subdirectories.\n",
    "    '''\n",
    "\n",
    "    os.makedirs(main_directory, exist_ok = True)\n",
    "\n",
    "    for sub in sub_directories:\n",
    "        sub_directory = os.path.join(main_directory, sub)\n",
    "        os.makedirs(sub_directory, exist_ok = True)"
   ]
  },
  {
   "cell_type": "code",
   "execution_count": 10,
   "metadata": {},
   "outputs": [],
   "source": [
    "def array_to_png_all_images(directory, sub_dir, labels_array, images_array):\n",
    "    '''\n",
    "    assemble a directory of images in png format from array lists.\n",
    "\n",
    "    Input:\n",
    "        directory (string) --> main directory.\n",
    "        sub_dir (string) --> sub directories indexed in order with classes.\n",
    "        labels_array (array) --> array list containing all labels.\n",
    "        images_array (array) --> array list containing all images. \n",
    "    '''\n",
    "\n",
    "    for num in range(0, 10):\n",
    "        for index, label in enumerate(labels_array):\n",
    "            if num == label: \n",
    "                array_to_png(images_array[index], \n",
    "                             directory + sub_dir[num] + f'/{index}.png')"
   ]
  },
  {
   "cell_type": "code",
   "execution_count": 11,
   "metadata": {},
   "outputs": [],
   "source": [
    "sub_directories = ['zero', 'one', 'two', 'three', 'four', 'five', 'six', 'seven', 'eight', 'nine']\n",
    "make_directories('MNIST/original-data/train', sub_directories)\n",
    "make_directories('MNIST/original-data/test', sub_directories)\n",
    "\n",
    "array_to_png_all_images('MNIST/original-data/train/', sub_directories, train_labels_array, train_images_array)\n",
    "array_to_png_all_images('MNIST/original-data/test/', sub_directories, test_labels_array, test_images_array)"
   ]
  },
  {
   "cell_type": "code",
   "execution_count": 12,
   "metadata": {},
   "outputs": [],
   "source": [
    "def analyze_directory(directory, extract):\n",
    "    '''\n",
    "    analyzes the amount of images present in subdirectories.\n",
    "\n",
    "    Input:\n",
    "        directory (string) --> main directory to be parsed.\n",
    "        extract (string) --> data extract type.\n",
    "    '''\n",
    "\n",
    "    count, sum = 0, 0\n",
    "    for index, label in enumerate(os.listdir(directory)):\n",
    "        count = len(os.listdir(directory + label))\n",
    "        print(f'Train images in \"{label}\" directory: {count} images')\n",
    "        sum += count \n",
    "        count = 0\n",
    "\n",
    "    print(f'\\n== {extract} total images: {sum} images ==')"
   ]
  },
  {
   "cell_type": "code",
   "execution_count": 13,
   "metadata": {},
   "outputs": [
    {
     "name": "stdout",
     "output_type": "stream",
     "text": [
      "Train images in \"eight\" directory: 5851 images\n",
      "Train images in \"five\" directory: 5421 images\n",
      "Train images in \"four\" directory: 5842 images\n",
      "Train images in \"nine\" directory: 5949 images\n",
      "Train images in \"one\" directory: 6742 images\n",
      "Train images in \"seven\" directory: 6265 images\n",
      "Train images in \"six\" directory: 5918 images\n",
      "Train images in \"three\" directory: 6131 images\n",
      "Train images in \"two\" directory: 5958 images\n",
      "Train images in \"zero\" directory: 5923 images\n",
      "\n",
      "== Train total images: 60000 images ==\n"
     ]
    }
   ],
   "source": [
    "analyze_directory('MNIST/original-data/train/', 'Train')"
   ]
  },
  {
   "cell_type": "code",
   "execution_count": 14,
   "metadata": {},
   "outputs": [
    {
     "name": "stdout",
     "output_type": "stream",
     "text": [
      "Train images in \"eight\" directory: 974 images\n",
      "Train images in \"five\" directory: 892 images\n",
      "Train images in \"four\" directory: 982 images\n",
      "Train images in \"nine\" directory: 1009 images\n",
      "Train images in \"one\" directory: 1135 images\n",
      "Train images in \"seven\" directory: 1028 images\n",
      "Train images in \"six\" directory: 958 images\n",
      "Train images in \"three\" directory: 1010 images\n",
      "Train images in \"two\" directory: 1032 images\n",
      "Train images in \"zero\" directory: 980 images\n",
      "\n",
      "== Test total images: 10000 images ==\n"
     ]
    }
   ],
   "source": [
    "analyze_directory('MNIST/original-data/test/', 'Test')"
   ]
  }
 ],
 "metadata": {
  "kernelspec": {
   "display_name": "env_research",
   "language": "python",
   "name": "python3"
  },
  "language_info": {
   "codemirror_mode": {
    "name": "ipython",
    "version": 3
   },
   "file_extension": ".py",
   "mimetype": "text/x-python",
   "name": "python",
   "nbconvert_exporter": "python",
   "pygments_lexer": "ipython3",
   "version": "3.10.9"
  },
  "orig_nbformat": 4
 },
 "nbformat": 4,
 "nbformat_minor": 2
}
