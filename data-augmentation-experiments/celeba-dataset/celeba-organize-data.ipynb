{
 "cells": [
  {
   "attachments": {},
   "cell_type": "markdown",
   "metadata": {},
   "source": [
    "## Organizing the CELEBA Image Set\n",
    "***"
   ]
  },
  {
   "attachments": {},
   "cell_type": "markdown",
   "metadata": {},
   "source": [
    "#### Importing Auxiliary Packages\n",
    "***"
   ]
  },
  {
   "cell_type": "code",
   "execution_count": 1,
   "metadata": {},
   "outputs": [],
   "source": [
    "from torchvision.datasets import CelebA\n",
    "from PIL import Image\n",
    "import numpy as np\n",
    "import idx2numpy\n",
    "import shutil\n",
    "import os"
   ]
  },
  {
   "attachments": {},
   "cell_type": "markdown",
   "metadata": {},
   "source": [
    "#### Downloading the Dataset\n",
    "***"
   ]
  },
  {
   "attachments": {},
   "cell_type": "markdown",
   "metadata": {},
   "source": [
    "* The dataset can be downloaded from the following Web site: [Large-scale CelebFaces Attributes (CelebA) Dataset](http://mmlab.ie.cuhk.edu.hk/projects/CelebA.html)."
   ]
  },
  {
   "attachments": {},
   "cell_type": "markdown",
   "metadata": {},
   "source": [
    "#### Organizing the Dataset Structure\n",
    "***"
   ]
  },
  {
   "cell_type": "code",
   "execution_count": 2,
   "metadata": {},
   "outputs": [],
   "source": [
    "def read_file(file_name):\n",
    "    '''\n",
    "    Reads a file .txt line by line.\n",
    "\n",
    "    Input:\n",
    "        file_name (str) --> relative path of the .txt file.\n",
    "    Returns:\n",
    "        lines (list) --> List of strings with the contents of each line of the .txt file.\n",
    "    '''\n",
    "\n",
    "    lines = []\n",
    "    with open(file_name, 'r') as file:\n",
    "        for line in file:\n",
    "            lines.append(line.strip())\n",
    "    return lines"
   ]
  },
  {
   "cell_type": "code",
   "execution_count": 12,
   "metadata": {},
   "outputs": [],
   "source": [
    "def return_sex(file_name, initial_line, images_number):\n",
    "    '''\n",
    "    Returns the name of the image with the gender of the celebrity.\n",
    "\n",
    "    Input:\n",
    "        file_name (str) --> relative path of the .txt file.\n",
    "        initial_line (int) --> initial line to start reading the file .txt.\n",
    "        images_number (int) --> Total number of images in the dataset.\n",
    "\n",
    "    Returns:\n",
    "        image_with_sex (list) --> set of lists with the file name and gender of the celebrity.\n",
    "    '''\n",
    "\n",
    "    image_with_sex = []\n",
    "    file_lines = read_file(file_name)\n",
    "\n",
    "    for index in range(0, images_number):\n",
    "        image_file = file_lines[initial_line + index].split()[0]\n",
    "        image_sex = file_lines[initial_line + index].split()[21]\n",
    "\n",
    "        if image_sex == '1': image_sex = 'male'\n",
    "        else: image_sex = 'female'\n",
    "\n",
    "        image_with_sex.append([image_file, image_sex])\n",
    "    \n",
    "    return image_with_sex"
   ]
  },
  {
   "cell_type": "code",
   "execution_count": 13,
   "metadata": {},
   "outputs": [],
   "source": [
    "file_name = 'celeba/raw/list_attr_celeba.txt'\n",
    "image_with_sex = return_sex(file_name, initial_line  = 2, \n",
    "                            images_number = len(os.listdir('celeba/raw/img_align_celeba/')))"
   ]
  },
  {
   "cell_type": "code",
   "execution_count": 23,
   "metadata": {},
   "outputs": [],
   "source": [
    "train_images = image_with_sex[:int(len(image_with_sex) * 0.90)]\n",
    "test_images = image_with_sex[int(len(image_with_sex) * 0.90):]"
   ]
  },
  {
   "attachments": {},
   "cell_type": "markdown",
   "metadata": {},
   "source": [
    "#### Organizing Images in Directories\n",
    "***"
   ]
  },
  {
   "cell_type": "code",
   "execution_count": 2,
   "metadata": {},
   "outputs": [],
   "source": [
    "def make_directories(main_directory, sub_directories):\n",
    "    '''\n",
    "    creates directories to store the dataset images.\n",
    "\n",
    "    Input:\n",
    "        main_directory (string) --> main folder name.\n",
    "        sub_directories (string) --> name of subdirectories.\n",
    "    '''\n",
    "\n",
    "    os.makedirs(main_directory, exist_ok = True)\n",
    "\n",
    "    for sub in sub_directories:\n",
    "        sub_directory = os.path.join(main_directory, sub)\n",
    "        os.makedirs(sub_directory, exist_ok = True)"
   ]
  },
  {
   "cell_type": "code",
   "execution_count": 17,
   "metadata": {},
   "outputs": [],
   "source": [
    "sub_directories = ['male', 'female']\n",
    "make_directories('celeba/original-data/train', sub_directories)\n",
    "make_directories('celeba/original-data/test', sub_directories)"
   ]
  },
  {
   "cell_type": "code",
   "execution_count": 30,
   "metadata": {},
   "outputs": [],
   "source": [
    "def organize_images(original_image_dir, destination_dir, images_with_sex):\n",
    "    '''\n",
    "    Organizing the images in the saved directories.\n",
    "\n",
    "    Input: \n",
    "        original_image_dir (str) --> relative path where the original images are stored.\n",
    "        destination_dir (str) --> relative path where the original images are stored.\n",
    "        images_with_sex (list) --> list containing the name of the images and the gender of the celebrities.\n",
    "    '''\n",
    "\n",
    "    for image_with_sex in images_with_sex:\n",
    "        shutil.copy(original_image_dir + image_with_sex[0],\n",
    "                    destination_dir + image_with_sex[1])"
   ]
  },
  {
   "cell_type": "code",
   "execution_count": 31,
   "metadata": {},
   "outputs": [],
   "source": [
    "organize_images('celeba/raw/img_align_celeba/', 'celeba/original-data/train/', train_images)\n",
    "organize_images('celeba/raw/img_align_celeba/', 'celeba/original-data/test/', test_images)"
   ]
  },
  {
   "cell_type": "code",
   "execution_count": 2,
   "metadata": {},
   "outputs": [],
   "source": [
    "def analyze_directory(directory, extract):\n",
    "    '''\n",
    "    analyzes the amount of images present in subdirectories.\n",
    "\n",
    "    Input:\n",
    "        directory (string) --> main directory to be parsed.\n",
    "        extract (string) --> data extract type.\n",
    "    '''\n",
    "\n",
    "    count, sum = 0, 0\n",
    "    for _, label in enumerate(os.listdir(directory)):\n",
    "        count = len(os.listdir(directory + label))\n",
    "        print(f'{extract} images in \"{label}\" directory: {count} images')\n",
    "        sum += count \n",
    "        count = 0\n",
    "\n",
    "    print(f'\\n== {extract} total images: {sum} images ==')"
   ]
  },
  {
   "cell_type": "code",
   "execution_count": 3,
   "metadata": {},
   "outputs": [
    {
     "name": "stdout",
     "output_type": "stream",
     "text": [
      "Train images in \"female\" directory: 105746 images\n",
      "Train images in \"male\" directory: 76593 images\n",
      "\n",
      "== Train total images: 182339 images ==\n"
     ]
    }
   ],
   "source": [
    "analyze_directory('celeba/original-data/train/', 'Train')"
   ]
  },
  {
   "cell_type": "code",
   "execution_count": 4,
   "metadata": {},
   "outputs": [
    {
     "name": "stdout",
     "output_type": "stream",
     "text": [
      "Test images in \"female\" directory: 12419 images\n",
      "Test images in \"male\" directory: 7841 images\n",
      "\n",
      "== Test total images: 20260 images ==\n"
     ]
    }
   ],
   "source": [
    "analyze_directory('celeba/original-data/test/', 'Test')"
   ]
  },
  {
   "attachments": {},
   "cell_type": "markdown",
   "metadata": {},
   "source": [
    "#### Organizing the Data to Store the Artificial Images\n",
    "***"
   ]
  },
  {
   "cell_type": "code",
   "execution_count": 3,
   "metadata": {},
   "outputs": [],
   "source": [
    "sub_directories = ['male', 'female']\n",
    "make_directories('celeba/artificial-augmentation/train', sub_directories)\n",
    "make_directories('celeba/artificial-augmentation/test', sub_directories)"
   ]
  }
 ],
 "metadata": {
  "kernelspec": {
   "display_name": "env_research",
   "language": "python",
   "name": "python3"
  },
  "language_info": {
   "codemirror_mode": {
    "name": "ipython",
    "version": 3
   },
   "file_extension": ".py",
   "mimetype": "text/x-python",
   "name": "python",
   "nbconvert_exporter": "python",
   "pygments_lexer": "ipython3",
   "version": "3.10.9"
  },
  "orig_nbformat": 4
 },
 "nbformat": 4,
 "nbformat_minor": 2
}
