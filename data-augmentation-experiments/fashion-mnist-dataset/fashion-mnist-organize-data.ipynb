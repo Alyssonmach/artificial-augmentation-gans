{
 "cells": [
  {
   "attachments": {},
   "cell_type": "markdown",
   "metadata": {},
   "source": [
    "## Organizing the Fashion MNIST Image Set\n",
    "***"
   ]
  },
  {
   "attachments": {},
   "cell_type": "markdown",
   "metadata": {},
   "source": [
    "#### Importing Auxiliary Packages\n",
    "***"
   ]
  },
  {
   "cell_type": "code",
   "execution_count": 1,
   "metadata": {},
   "outputs": [],
   "source": [
    "from torchvision.datasets import FashionMNIST\n",
    "from PIL import Image\n",
    "import idx2numpy\n",
    "import os"
   ]
  },
  {
   "attachments": {},
   "cell_type": "markdown",
   "metadata": {},
   "source": [
    "#### Downloading the Dataset\n",
    "***"
   ]
  },
  {
   "cell_type": "code",
   "execution_count": 3,
   "metadata": {},
   "outputs": [
    {
     "data": {
      "text/plain": [
       "Dataset FashionMNIST\n",
       "    Number of datapoints: 60000\n",
       "    Root location: .\n",
       "    Split: Train"
      ]
     },
     "execution_count": 3,
     "metadata": {},
     "output_type": "execute_result"
    }
   ],
   "source": [
    "FashionMNIST('.', download = True)"
   ]
  },
  {
   "attachments": {},
   "cell_type": "markdown",
   "metadata": {},
   "source": [
    "#### Organizing Images in Directories\n",
    "***"
   ]
  },
  {
   "cell_type": "code",
   "execution_count": 4,
   "metadata": {},
   "outputs": [
    {
     "name": "stdout",
     "output_type": "stream",
     "text": [
      "== Data Dimension ==\n",
      "\n",
      "Train Images Shape: (60000, 28, 28)\n",
      "Train Labels Shape: (60000,)\n",
      "Test Images Shape: (10000, 28, 28)\n",
      "Test Images Shape: (10000,)\n"
     ]
    }
   ],
   "source": [
    "train_images_files = 'FashionMNIST/raw/train-images-idx3-ubyte'\n",
    "train_labels_files = 'FashionMNIST/raw/train-labels-idx1-ubyte'\n",
    "test_images_files = 'FashionMNIST/raw/t10k-images-idx3-ubyte'\n",
    "test_labels_files = 'FashionMNIST/raw/t10k-labels-idx1-ubyte'\n",
    "\n",
    "train_images_array = idx2numpy.convert_from_file(train_images_files)\n",
    "train_labels_array = idx2numpy.convert_from_file(train_labels_files)\n",
    "test_images_array = idx2numpy.convert_from_file(test_images_files)\n",
    "test_labels_array = idx2numpy.convert_from_file(test_labels_files)\n",
    "\n",
    "print('== Data Dimension ==\\n')\n",
    "print(f'Train Images Shape: {train_images_array.shape}')\n",
    "print(f'Train Labels Shape: {train_labels_array.shape}')\n",
    "print(f'Test Images Shape: {test_images_array.shape}')\n",
    "print(f'Test Images Shape: {test_labels_array.shape}')"
   ]
  },
  {
   "cell_type": "code",
   "execution_count": 5,
   "metadata": {},
   "outputs": [],
   "source": [
    "def analyze_arrays(labels_array, extract):\n",
    "    '''\n",
    "    analyzes the amount of images contained in the array.\n",
    "\n",
    "    Input:\n",
    "        labels_array (array) --> array with all image labels.\n",
    "        extract (string) --> defines the analyzed image extract type label.\n",
    "    '''\n",
    "    \n",
    "    count, sum = 0, 0\n",
    "    for num in range(0, 10):\n",
    "        for label in labels_array:\n",
    "            if num == label: count += 1\n",
    "\n",
    "        print(f'{extract} images class {num}: {count} images')\n",
    "        sum += count\n",
    "        count = 0\n",
    "\n",
    "    print(f'\\n== {extract} total images: {sum} images ==')"
   ]
  },
  {
   "cell_type": "code",
   "execution_count": 6,
   "metadata": {},
   "outputs": [
    {
     "name": "stdout",
     "output_type": "stream",
     "text": [
      "Train images class 0: 6000 images\n",
      "Train images class 1: 6000 images\n",
      "Train images class 2: 6000 images\n",
      "Train images class 3: 6000 images\n",
      "Train images class 4: 6000 images\n",
      "Train images class 5: 6000 images\n",
      "Train images class 6: 6000 images\n",
      "Train images class 7: 6000 images\n",
      "Train images class 8: 6000 images\n",
      "Train images class 9: 6000 images\n",
      "\n",
      "== Train total images: 60000 images ==\n"
     ]
    }
   ],
   "source": [
    "analyze_arrays(train_labels_array, 'Train')"
   ]
  },
  {
   "cell_type": "code",
   "execution_count": 7,
   "metadata": {},
   "outputs": [
    {
     "name": "stdout",
     "output_type": "stream",
     "text": [
      "Test images class 0: 1000 images\n",
      "Test images class 1: 1000 images\n",
      "Test images class 2: 1000 images\n",
      "Test images class 3: 1000 images\n",
      "Test images class 4: 1000 images\n",
      "Test images class 5: 1000 images\n",
      "Test images class 6: 1000 images\n",
      "Test images class 7: 1000 images\n",
      "Test images class 8: 1000 images\n",
      "Test images class 9: 1000 images\n",
      "\n",
      "== Test total images: 10000 images ==\n"
     ]
    }
   ],
   "source": [
    "analyze_arrays(test_labels_array, 'Test')"
   ]
  },
  {
   "cell_type": "code",
   "execution_count": 8,
   "metadata": {},
   "outputs": [],
   "source": [
    "def array_to_png(image_array, image_dir):\n",
    "    '''\n",
    "    saves an image array in png format.\n",
    "\n",
    "    Input:\n",
    "        image_array (array) --> image array\n",
    "        image_dir (str) --> string with directory and image name.png\n",
    "    Returns:\n",
    "    '''\n",
    "    \n",
    "    image = Image.fromarray(image_array)\n",
    "    image.save(image_dir)"
   ]
  },
  {
   "cell_type": "code",
   "execution_count": 2,
   "metadata": {},
   "outputs": [],
   "source": [
    "def make_directories(main_directory, sub_directories):\n",
    "    '''\n",
    "    creates directories to store the dataset images.\n",
    "\n",
    "    Input:\n",
    "        main_directory (string) --> main folder name.\n",
    "        sub_directories (string) --> name of subdirectories.\n",
    "    '''\n",
    "\n",
    "    os.makedirs(main_directory, exist_ok = True)\n",
    "\n",
    "    for sub in sub_directories:\n",
    "        sub_directory = os.path.join(main_directory, sub)\n",
    "        os.makedirs(sub_directory, exist_ok = True)"
   ]
  },
  {
   "cell_type": "code",
   "execution_count": 10,
   "metadata": {},
   "outputs": [],
   "source": [
    "def array_to_png_all_images(directory, sub_dir, labels_array, images_array):\n",
    "    '''\n",
    "    assemble a directory of images in png format from array lists.\n",
    "\n",
    "    Input:\n",
    "        directory (string) --> main directory.\n",
    "        sub_dir (string) --> sub directories indexed in order with classes.\n",
    "        labels_array (array) --> array list containing all labels.\n",
    "        images_array (array) --> array list containing all images. \n",
    "    '''\n",
    "\n",
    "    for num in range(0, 10):\n",
    "        for index, label in enumerate(labels_array):\n",
    "            if num == label: \n",
    "                array_to_png(images_array[index], \n",
    "                             directory + sub_dir[num] + f'/{index}.png')"
   ]
  },
  {
   "cell_type": "code",
   "execution_count": 11,
   "metadata": {},
   "outputs": [],
   "source": [
    "sub_directories = ['t-shirt', 'trouser', 'pullover', 'dress', 'coat', 'sandal', 'shirt', 'sneaker', \n",
    "                   'bag', 'ankle-boot']\n",
    "make_directories('FashionMNIST/original-data/train', sub_directories)\n",
    "make_directories('FashionMNIST/original-data/test', sub_directories)\n",
    "\n",
    "array_to_png_all_images('FashionMNIST/original-data/train/', sub_directories, train_labels_array, train_images_array)\n",
    "array_to_png_all_images('FashionMNIST/original-data/test/', sub_directories, test_labels_array, test_images_array)"
   ]
  },
  {
   "cell_type": "code",
   "execution_count": 2,
   "metadata": {},
   "outputs": [],
   "source": [
    "def analyze_directory(directory, extract):\n",
    "    '''\n",
    "    analyzes the amount of images present in subdirectories.\n",
    "\n",
    "    Input:\n",
    "        directory (string) --> main directory to be parsed.\n",
    "        extract (string) --> data extract type.\n",
    "    '''\n",
    "\n",
    "    count, sum = 0, 0\n",
    "    for label in os.listdir(directory):\n",
    "        count = len(os.listdir(directory + label))\n",
    "        print(f'{extract} images in \"{label}\" directory: {count} images')\n",
    "        sum += count \n",
    "        count = 0\n",
    "\n",
    "    print(f'\\n== {extract} total images: {sum} images ==')"
   ]
  },
  {
   "cell_type": "code",
   "execution_count": 3,
   "metadata": {},
   "outputs": [
    {
     "name": "stdout",
     "output_type": "stream",
     "text": [
      "Train images in \"ankle-boot\" directory: 6000 images\n",
      "Train images in \"bag\" directory: 6000 images\n",
      "Train images in \"coat\" directory: 6000 images\n",
      "Train images in \"dress\" directory: 6000 images\n",
      "Train images in \"pullover\" directory: 6000 images\n",
      "Train images in \"sandal\" directory: 6000 images\n",
      "Train images in \"shirt\" directory: 6000 images\n",
      "Train images in \"sneaker\" directory: 6000 images\n",
      "Train images in \"t-shirt\" directory: 6000 images\n",
      "Train images in \"trouser\" directory: 6000 images\n",
      "\n",
      "== Train total images: 60000 images ==\n"
     ]
    }
   ],
   "source": [
    "analyze_directory('FashionMNIST/original-data/train/', 'Train')"
   ]
  },
  {
   "cell_type": "code",
   "execution_count": 4,
   "metadata": {},
   "outputs": [
    {
     "name": "stdout",
     "output_type": "stream",
     "text": [
      "Test images in \"ankle-boot\" directory: 1000 images\n",
      "Test images in \"bag\" directory: 1000 images\n",
      "Test images in \"coat\" directory: 1000 images\n",
      "Test images in \"dress\" directory: 1000 images\n",
      "Test images in \"pullover\" directory: 1000 images\n",
      "Test images in \"sandal\" directory: 1000 images\n",
      "Test images in \"shirt\" directory: 1000 images\n",
      "Test images in \"sneaker\" directory: 1000 images\n",
      "Test images in \"t-shirt\" directory: 1000 images\n",
      "Test images in \"trouser\" directory: 1000 images\n",
      "\n",
      "== Test total images: 10000 images ==\n"
     ]
    }
   ],
   "source": [
    "analyze_directory('FashionMNIST/original-data/test/', 'Test')"
   ]
  },
  {
   "attachments": {},
   "cell_type": "markdown",
   "metadata": {},
   "source": [
    "#### Organizing the Data to Store the Artificial Images\n",
    "***"
   ]
  },
  {
   "cell_type": "code",
   "execution_count": 3,
   "metadata": {},
   "outputs": [],
   "source": [
    "sub_directories = ['t-shirt', 'trouser', 'pullover', 'dress', 'coat', 'sandal', 'shirt', 'sneaker', \n",
    "                   'bag', 'ankle-boot']\n",
    "make_directories('FashionMNIST/artificial-augmentation/train', sub_directories)\n",
    "make_directories('FashionMNIST/artificial-augmentation/test', sub_directories)"
   ]
  }
 ],
 "metadata": {
  "kernelspec": {
   "display_name": "env_research",
   "language": "python",
   "name": "python3"
  },
  "language_info": {
   "codemirror_mode": {
    "name": "ipython",
    "version": 3
   },
   "file_extension": ".py",
   "mimetype": "text/x-python",
   "name": "python",
   "nbconvert_exporter": "python",
   "pygments_lexer": "ipython3",
   "version": "3.10.9"
  },
  "orig_nbformat": 4
 },
 "nbformat": 4,
 "nbformat_minor": 2
}
